{
 "cells": [
  {
   "cell_type": "code",
   "execution_count": 1,
   "id": "a2d9acd3-63ce-4ea5-b6f1-38924b1fe620",
   "metadata": {},
   "outputs": [],
   "source": [
    "        #ANSWER:- 1"
   ]
  },
  {
   "cell_type": "code",
   "execution_count": null,
   "id": "dae81523-b695-4d95-9738-c4818559de4a",
   "metadata": {},
   "outputs": [],
   "source": [
    "class vehical:\n",
    "    \n",
    "    def __init__(self , name_of_vehicle ,max_speed,average_of_vehicle):\n",
    "        self.name_of_vehicle = name_of_vehicle\n",
    "        self.max_speed = max_speed\n",
    "        self.average_of_vehicle = average_of_vehicle"
   ]
  },
  {
   "cell_type": "code",
   "execution_count": null,
   "id": "71833af6-1162-4ade-a58c-64f0a03ab02f",
   "metadata": {},
   "outputs": [
    {
     "name": "stdout",
     "output_type": "stream",
     "text": [
      "TATA\n",
      "200\n",
      "80\n"
     ]
    }
   ],
   "source": [
    "car = vehical(\"TATA\",\"200\",\"80\")\n",
    "print(car.name_of_vehicle)\n",
    "print(car.max_speed)\n",
    "print(car.average_of_vehicle)"
   ]
  },
  {
   "cell_type": "code",
   "execution_count": null,
   "id": "29ffc50a-ad8d-4eb2-813c-562fb861bfa8",
   "metadata": {},
   "outputs": [],
   "source": [
    "       #ANSWER:-2"
   ]
  },
  {
   "cell_type": "code",
   "execution_count": 3,
   "id": "8fa8f39c-7b91-4c92-899e-5e6343008d53",
   "metadata": {},
   "outputs": [
    {
     "data": {
      "text/plain": [
       "'The tata has a seating capacity of 5 people.'"
      ]
     },
     "execution_count": 3,
     "metadata": {},
     "output_type": "execute_result"
    }
   ],
   "source": [
    "class vehical:\n",
    "    \n",
    "    def __init__(self , name_of_vehicle ,max_speed,average_of_vehicle):\n",
    "        self.name_of_vehicle = name_of_vehicle\n",
    "        self.max_speed = max_speed\n",
    "        self.average_of_vehicle = average_of_vehicle\n",
    "\n",
    "class car(vehical):\n",
    "    \n",
    "    def seating_capacity(self,capacity):\n",
    "        return f\"The {self.name_of_vehicle} has a seating capacity of {capacity} people.\"\n",
    "\n",
    "obj_car = car(\"tata\",200,80)\n",
    "obj_car.seating_capacity(5)"
   ]
  },
  {
   "cell_type": "code",
   "execution_count": null,
   "id": "b47edd6a-0d91-4cb7-9667-7f417d6433af",
   "metadata": {},
   "outputs": [],
   "source": [
    "          #ANSWER:-3\n",
    "    # What is multiple inheritance? Write a python code to demonstrate multiple inheritance"
   ]
  },
  {
   "cell_type": "code",
   "execution_count": 4,
   "id": "fcea1d71-df49-4247-9f62-d9af7a05182e",
   "metadata": {},
   "outputs": [
    {
     "data": {
      "text/plain": [
       "'When a class is derived from more than one base class it is called multiple Inheritance. \\nThe derived class inherits all the features of the base case'"
      ]
     },
     "execution_count": 4,
     "metadata": {},
     "output_type": "execute_result"
    }
   ],
   "source": [
    "\"\"\"When a class is derived from more than one base class it is called multiple Inheritance. \n",
    "The derived class inherits all the features of the base case\"\"\""
   ]
  },
  {
   "cell_type": "code",
   "execution_count": 5,
   "id": "e9327fe6-2d48-42a4-9b6f-78255ee2f8e4",
   "metadata": {},
   "outputs": [
    {
     "name": "stdout",
     "output_type": "stream",
     "text": [
      "In Class2\n"
     ]
    }
   ],
   "source": [
    "# Python Program to depict multiple inheritance\n",
    "# when method is overridden in both classes\n",
    "\n",
    "class Class1:\n",
    "\tdef m(self):\n",
    "\t\tprint(\"In Class1\")\n",
    "\t\n",
    "class Class2(Class1):\n",
    "\tdef m(self):\n",
    "\t\tprint(\"In Class2\")\n",
    "\n",
    "class Class3(Class1):\n",
    "\tdef m(self):\n",
    "\t\tprint(\"In Class3\")\n",
    "\t\t\n",
    "class Class4(Class2, Class3):\n",
    "\tpass\n",
    "\t\n",
    "obj = Class4()\n",
    "obj.m()\n",
    "\n"
   ]
  },
  {
   "cell_type": "code",
   "execution_count": null,
   "id": "7f605340-fe34-4e35-a364-c8c796da54fd",
   "metadata": {},
   "outputs": [],
   "source": [
    "        #ANSWER:-4"
   ]
  },
  {
   "cell_type": "code",
   "execution_count": 6,
   "id": "b4337d9c-0a0c-43c6-a366-a8c5445ac70b",
   "metadata": {},
   "outputs": [
    {
     "data": {
      "text/plain": [
       "'Getter: A method that allows you to access an attribute in a given class. \\nSetter: A method that allows you to set or mutate the value of an attribute in a class.'"
      ]
     },
     "execution_count": 6,
     "metadata": {},
     "output_type": "execute_result"
    }
   ],
   "source": [
    "\"\"\"Getter: A method that allows you to access an attribute in a given class. \n",
    "Setter: A method that allows you to set or mutate the value of an attribute in a class.\"\"\""
   ]
  },
  {
   "cell_type": "code",
   "execution_count": 6,
   "id": "88524678-d144-4bf8-8647-7feb39214218",
   "metadata": {},
   "outputs": [
    {
     "name": "stdout",
     "output_type": "stream",
     "text": [
      "19\n",
      "19\n"
     ]
    }
   ],
   "source": [
    "#python programe to demostrate\n",
    "#getter and setter\n",
    "\n",
    "class vipul:   \n",
    "    def __init__(self, age = 0):   \n",
    "         self._age = age   \n",
    "      # using the getter method   \n",
    "    def get_age(self):   \n",
    "        return self._age   \n",
    "      # using the setter method   \n",
    "    def set_age(self, a):   \n",
    "        self._age = a   \n",
    "    \n",
    "a = vipul()   \n",
    "    \n",
    "#using the setter function  \n",
    "a.set_age(19)   \n",
    "    \n",
    "# using the getter function  \n",
    "print(a.get_age())   \n",
    "    \n",
    "print(a._age) "
   ]
  },
  {
   "cell_type": "code",
   "execution_count": 7,
   "id": "0688eadb-d5f5-4bab-85a0-86eebcf306b5",
   "metadata": {},
   "outputs": [],
   "source": [
    "             #ANSWER:-5"
   ]
  },
  {
   "cell_type": "code",
   "execution_count": 8,
   "id": "4b347040-ab6f-41dc-8024-a119f27d9bc3",
   "metadata": {},
   "outputs": [],
   "source": [
    "# Method overriding is a feature of object-oriented programming languages where the subclass or child class can provide the program with specific characteristics or a specific implementation process of data provided that are already defined in the parent class or superclass."
   ]
  },
  {
   "cell_type": "code",
   "execution_count": 9,
   "id": "43e7303e-4ed4-4558-bf67-26e8a03f631b",
   "metadata": {},
   "outputs": [
    {
     "name": "stdout",
     "output_type": "stream",
     "text": [
      "Inside Parent\n",
      "Inside Child\n"
     ]
    }
   ],
   "source": [
    "# Python program to demonstrate\n",
    "# method overriding\n",
    "\n",
    "\n",
    "# Defining parent class\n",
    "class Parent():\n",
    "\t\n",
    "\t# Constructor\n",
    "\tdef __init__(self):\n",
    "\t\tself.value = \"Inside Parent\"\n",
    "\t\t\n",
    "\t# Parent's show method\n",
    "\tdef show(self):\n",
    "\t\tprint(self.value)\n",
    "\t\t\n",
    "# Defining child class\n",
    "class Child(Parent):\n",
    "\t\n",
    "\t# Constructor\n",
    "\tdef __init__(self):\n",
    "\t\tself.value = \"Inside Child\"\n",
    "\t\t\n",
    "\t# Child's show method\n",
    "\tdef show(self):\n",
    "\t\tprint(self.value)\n",
    "\t\t\n",
    "\t\t\n",
    "# Driver's code\n",
    "obj1 = Parent()\n",
    "obj2 = Child()\n",
    "\n",
    "obj1.show()\n",
    "obj2.show()\n"
   ]
  },
  {
   "cell_type": "code",
   "execution_count": null,
   "id": "35eeee50-4ae3-4da2-8bb6-1c941eede2ea",
   "metadata": {},
   "outputs": [],
   "source": []
  }
 ],
 "metadata": {
  "kernelspec": {
   "display_name": "Python 3 (ipykernel)",
   "language": "python",
   "name": "python3"
  },
  "language_info": {
   "codemirror_mode": {
    "name": "ipython",
    "version": 3
   },
   "file_extension": ".py",
   "mimetype": "text/x-python",
   "name": "python",
   "nbconvert_exporter": "python",
   "pygments_lexer": "ipython3",
   "version": "3.10.8"
  }
 },
 "nbformat": 4,
 "nbformat_minor": 5
}
